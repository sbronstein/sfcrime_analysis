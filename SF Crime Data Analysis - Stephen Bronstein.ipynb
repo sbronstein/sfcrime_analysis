{
 "cells": [
  {
   "cell_type": "markdown",
   "metadata": {},
   "source": [
    "# SF Crime is mostly theft; it peaks at 6PM during the week then rises on weekend evenings."
   ]
  },
  {
   "cell_type": "markdown",
   "metadata": {},
   "source": [
    "This data set is San Francisco Crime reports from June through August of 2014. \n",
    "\n",
    "(The detailed code is located [here](http://nbviewer.jupyter.org/github/sbronstein/sfcrime_analysis/blob/master/BasicAnalysis.ipynb), my local links aren't working for some reason.)\n",
    "\n",
    "## Top Crimes by Hour\n",
    "\n",
    "Let's start by taking a look at total crime reports bucketed by hour. (Note that I have limited the analysis to the top ten types of crime reports for easier readability.)"
   ]
  },
  {
   "cell_type": "markdown",
   "metadata": {},
   "source": [
    "![Alt text](files/figs/top_ten_crimes_by_hour.png)\n",
    "<small><i><a href=\"BasicAnalysis.ipynb#Top-Ten-Crimes-by-Hour\">figure source</a></i></small>"
   ]
  },
  {
   "cell_type": "markdown",
   "metadata": {},
   "source": [
    "As you can see, reports of Larceny/Theft far outweight any other type of crime report. It looks like things are pretty quiet by 5AM, then start climbing until a first peak at lunchtime, and then the peak for the day at the 6PM hour before declining pretty rapidly back to the low point of 5AM."
   ]
  },
  {
   "cell_type": "markdown",
   "metadata": {},
   "source": [
    "## Top Crimes by Day of Week"
   ]
  },
  {
   "cell_type": "markdown",
   "metadata": {},
   "source": [
    "![Alt text](files/figs/top_ten_by_dow.png)\n",
    "<small><i><a href=\"BasicAnalysis.ipynb#Top-Crimes-by-Day-of-Week\">figure source</a></i></small>"
   ]
  },
  {
   "cell_type": "markdown",
   "metadata": {},
   "source": [
    "We can see that most crime levels stay pretty steady throughout the week. The big exception is Larceny/Theft, which jumps on the weekend - Friday to Sunday - and it looks like Assault goes up a bit too on the weekends."
   ]
  },
  {
   "cell_type": "markdown",
   "metadata": {},
   "source": [
    "### Theft & Assault - Weekdays vs Weekend\n",
    "\n",
    "(Note that I have defined weekday as Mon-Thurs and weekend as Fri-Sun for the purposes of this analysis.)"
   ]
  },
  {
   "cell_type": "markdown",
   "metadata": {},
   "source": [
    "![Alt text](files/figs/TandA_week_vs_weekends_trend.png)\n",
    "<small><i><a href=\"BasicAnalysis.ipynb#Theft-&-Assault:-Weekdays-vs-Weekends\">figure source</a></i></small>"
   ]
  },
  {
   "cell_type": "markdown",
   "metadata": {},
   "source": [
    "As you can see, while thefts don't peak at quite as high a rate on the weekends during the 6PM hour, the rate of thefts is higher from around 8PM all the way through to 5AM or so. Assaults are also consistently higher starting at around 5PM."
   ]
  },
  {
   "cell_type": "markdown",
   "metadata": {},
   "source": [
    "## Temperature vs Total Thefts - Any Connection?"
   ]
  },
  {
   "cell_type": "markdown",
   "metadata": {},
   "source": [
    "Next I pulled in daily temperature data for SF from NOAA and looked for a relationship between temperature and number of thefts."
   ]
  },
  {
   "cell_type": "markdown",
   "metadata": {},
   "source": [
    "![Alt text](files/figs/Ave_Temp_vs_THEFT.png)\n",
    "<small><i><a href=\"BasicAnalysis.ipynb#Average-Temperature-vs-Theft\">figure source</a></i></small>"
   ]
  },
  {
   "cell_type": "markdown",
   "metadata": {},
   "source": [
    "Looks promising! Let's break this out by month."
   ]
  },
  {
   "cell_type": "markdown",
   "metadata": {},
   "source": [
    "![Average Temp vs Theft by Month](files/figs/Ave_Temp_vs_THEFT_by_Month.png)\n",
    "<small><i><a href=\"BasicAnalysis.ipynb#Average-Temperature-vs-Theft\">figure source</a></i></small>"
   ]
  },
  {
   "cell_type": "markdown",
   "metadata": {},
   "source": [
    "Well this looks less promising- we went from a small positive relationship (within the margin of error, to a . Let's wrap up by taking a quick look at the month over month crime reports."
   ]
  },
  {
   "cell_type": "markdown",
   "metadata": {},
   "source": [
    "## Crime Reports Month over Month"
   ]
  },
  {
   "cell_type": "markdown",
   "metadata": {},
   "source": [
    "![Alt text](files/figs/top_ten_monthly_trend.png)\n",
    "<small><i><a href=\"BasicAnalysis.ipynb#Top-Ten-by-Month\">figure source</a></i></small>"
   ]
  },
  {
   "cell_type": "markdown",
   "metadata": {},
   "source": [
    "Larceny/Theft is again the outliner, growing significantly from June through August. Whatever forces drove that growth may also have caused a change in the relationship between thefts and temperature."
   ]
  },
  {
   "cell_type": "code",
   "execution_count": null,
   "metadata": {
    "collapsed": true
   },
   "outputs": [],
   "source": []
  }
 ],
 "metadata": {
  "kernelspec": {
   "display_name": "Python [gl-env]",
   "language": "python",
   "name": "Python [gl-env]"
  },
  "language_info": {
   "codemirror_mode": {
    "name": "ipython",
    "version": 2
   },
   "file_extension": ".py",
   "mimetype": "text/x-python",
   "name": "python",
   "nbconvert_exporter": "python",
   "pygments_lexer": "ipython2",
   "version": "2.7.12"
  }
 },
 "nbformat": 4,
 "nbformat_minor": 0
}
